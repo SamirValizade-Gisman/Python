{
 "cells": [
  {
   "cell_type": "code",
   "execution_count": 3,
   "id": "b528dfff",
   "metadata": {},
   "outputs": [
    {
     "name": "stdout",
     "output_type": "stream",
     "text": [
      "Jms\n",
      "Jms\n"
     ]
    }
   ],
   "source": [
    "print(\"Exercise 1A: Create a string made of the first, middle and last character\")\n",
    "str1 = 'James'\n",
    "print(str1[::2])\n",
    "print(str1[0]+str1[2]+str1[-1])"
   ]
  },
  {
   "cell_type": "code",
   "execution_count": 24,
   "id": "0f7a1b5d",
   "metadata": {},
   "outputs": [
    {
     "name": "stdout",
     "output_type": "stream",
     "text": [
      "Exercise 1B: Create a string made of the middle three characters\n",
      "Str1 deyisenin esasen cavab:  Dip\n",
      "Str2 deyisenin esasen cavab:  Son\n"
     ]
    }
   ],
   "source": [
    "print(\"Exercise 1B: Create a string made of the middle three characters\")\n",
    "str1 = \"JhonDipPeta\"\n",
    "str2 = \"JaSonAy\"\n",
    "\n",
    "mid_index1 = len(str1)//2\n",
    "mid_index2 = len(str2)//2\n",
    "print(\"Str1 deyisenin esasen cavab: \",str1[int(mid_index1)-1]+str1[int(mid_index1)]+str1[int(mid_index1)+1])\n",
    "print(\"Str2 deyisenin esasen cavab: \",str2[int(mid_index2)-1]+str2[int(mid_index2)]+str2[int(mid_index2)+1])"
   ]
  },
  {
   "cell_type": "markdown",
   "id": "9f5bf1ad",
   "metadata": {},
   "source": [
    "\"\"\"Exercise 2: Append new string in the middle of a given string\n",
    "\n",
    "Given two strings, s1 and s2. Write a program to create a new string s3 by appending s2 in the middle of s1.\"\"\"\n",
    "\n"
   ]
  },
  {
   "cell_type": "code",
   "execution_count": 23,
   "id": "f94327e6",
   "metadata": {},
   "outputs": [
    {
     "name": "stdout",
     "output_type": "stream",
     "text": [
      "Result:  AuKellylt\n"
     ]
    }
   ],
   "source": [
    "s1 = \"Ault\"\n",
    "s2 = \"Kelly\"\n",
    "inde_med = len(s1)//2\n",
    "print(\"Result: \",s1[:int(inde_med)]+s2+s1[(int(inde_med)):])"
   ]
  },
  {
   "cell_type": "code",
   "execution_count": 22,
   "id": "f0f88a33",
   "metadata": {},
   "outputs": [
    {
     "name": "stdout",
     "output_type": "stream",
     "text": [
      "Result:  AJrpan\n"
     ]
    }
   ],
   "source": [
    "\"\"\"Exercise 3: Create a new string made of the first, middle, and last characters of each input string.\n",
    "Given two strings, s1 and s2, write a program to return a new string made of s1 and s2’s \n",
    "first, middle, and last characters.\n",
    "s1 = \"America\"\n",
    "s2 = \"Japan\"\n",
    "AJrpan\n",
    "\"\"\"\n",
    "s1 = \"America\"\n",
    "s2 = \"Japan\"\n",
    "s3 = s1[0]+s2[0]+s1[len(s1)//2]+s2[len(s2)//2]+s1[-1]+s2[-1]\n",
    "print(\"Result: \",s3)"
   ]
  },
  {
   "cell_type": "code",
   "execution_count": 38,
   "id": "f5c7ddea",
   "metadata": {},
   "outputs": [
    {
     "name": "stdout",
     "output_type": "stream",
     "text": [
      "Result:  yaivePNT\n"
     ]
    }
   ],
   "source": [
    "\"\"\"Exercise 4: Arrange string characters such that lowercase letters should come first\n",
    "\n",
    "Given string contains a combination of the lower and upper case letters. Write a program to arrange the characters of a string so that all lowercase letters should come first.\n",
    "\n",
    "Given:\n",
    "\n",
    "str1 = PyNaTive\"\"\"\n",
    "str1 = \"PyNaTive\"\n",
    "lower = []\n",
    "upper = []\n",
    "\n",
    "for i in str1:\n",
    "    if i.islower():\n",
    "        lower.append(i)\n",
    "    else:\n",
    "        upper.append(i)\n",
    "lower.extend(upper)\n",
    "result_str = \"\".join(lower)\n",
    "print(\"Result: \",result_str)"
   ]
  },
  {
   "cell_type": "code",
   "execution_count": 46,
   "id": "2ed054dd",
   "metadata": {},
   "outputs": [
    {
     "name": "stdout",
     "output_type": "stream",
     "text": [
      " Char: \"8 \n",
      " Digit: 3 \n",
      " Symbol: 4\n"
     ]
    }
   ],
   "source": [
    "\"\"\"Exercise 5: Count all letters, digits, and special symbols from a given string\n",
    "\n",
    "Given:\n",
    "\n",
    "str1 = \"P@#yn26at^&i5ve\"\"\"\n",
    "\n",
    "str1 = \"P@#yn26at^&i5ve\"\n",
    "\n",
    "letter = []\n",
    "digit = []\n",
    "spe_symbol = []\n",
    "\n",
    "for i in str1:\n",
    "    if i.isdigit():\n",
    "        digit.append(i)\n",
    "    elif i.isalpha():\n",
    "        letter.append(i)\n",
    "    else:\n",
    "        spe_symbol.append(i)\n",
    "    \n",
    "print(f' Char: \"{len(letter)} \\n Digit: {len(digit)} \\n Symbol: {len(spe_symbol)}')"
   ]
  },
  {
   "cell_type": "code",
   "execution_count": 47,
   "id": "237bbbf3",
   "metadata": {},
   "outputs": [
    {
     "name": "stdout",
     "output_type": "stream",
     "text": [
      "Result:  AzybcX\n"
     ]
    }
   ],
   "source": [
    "\"\"\"Exercise 6: Create a mixed String using the following rules\n",
    "\n",
    "Given two strings, s1 and s2. Write a program to create a new string s3 made of the first char of s1, \n",
    "then the last char of s2, Next, the second char of s1 and second last char of s2, and so on. \n",
    "Any leftover chars go at the end of the result.\n",
    "\n",
    "Given: AzbycX\n",
    "\n",
    "s1 = \"Abc\"\n",
    "s2 = \"Xyz\" \"\"\"\n",
    "\n",
    "s1 = \"Abc\"\n",
    "s2 = \"Xyz\"\n",
    "\n",
    "first = s1[0]+s2[-1]\n",
    "second = s2[1]+s1[1]\n",
    "third = s1[-1]+s2[0]\n",
    "s3 = first+second+third\n",
    "print(\"Result: \",s3)"
   ]
  },
  {
   "cell_type": "code",
   "execution_count": 51,
   "id": "f1788ae5",
   "metadata": {},
   "outputs": [
    {
     "name": "stdout",
     "output_type": "stream",
     "text": [
      "True\n"
     ]
    }
   ],
   "source": [
    "\"\"\"Exercise 7: String characters balance Test\n",
    "\n",
    "Write a program to check if two strings are balanced. \n",
    "For example, strings s1 and s2 are balanced if all the characters in the s1 are present in s2.\n",
    "The character’s position doesn’t matter.\n",
    "\n",
    "Given:\n",
    "\n",
    "Case 1:\n",
    "\n",
    "s1 = \"Yn\"\n",
    "s2 = \"PYnative\"\n",
    "Expected Output:\n",
    "\n",
    "True\n",
    "\n",
    "Case 2:\n",
    "\n",
    "s1 = \"Ynf\"\n",
    "s2 = \"PYnative\"\n",
    "Expected Output:\n",
    "\n",
    "False\"\"\"\n",
    "\n",
    "s1 = \"Yn\"\n",
    "s2 = \"PYnative\"\n",
    "\n",
    "def comprehense_sent(s1,s2):\n",
    "    return all(i in s2 for i in s1)\n",
    "find = comprehense_sent(s1,s2)\n",
    "print(find)"
   ]
  },
  {
   "cell_type": "code",
   "execution_count": 49,
   "id": "2f2b89f3",
   "metadata": {},
   "outputs": [
    {
     "name": "stdout",
     "output_type": "stream",
     "text": [
      "False\n"
     ]
    }
   ],
   "source": [
    "s1 = \"Ynf\"\n",
    "s2 = \"PYnative\"\n",
    "\n",
    "def comprehense_sent(s1,s2):\n",
    "    return all(i in s2 for i in s1)\n",
    "find = comprehense_sent(s1,s2)\n",
    "print(find)"
   ]
  },
  {
   "cell_type": "code",
   "execution_count": 62,
   "id": "96400653",
   "metadata": {},
   "outputs": [
    {
     "name": "stdout",
     "output_type": "stream",
     "text": [
      "2\n"
     ]
    }
   ],
   "source": [
    "\"\"\"Exercise 8: Find all occurrences of a substring in a given string by ignoring the case\n",
    "\n",
    "Write a program to find all occurrences of “USA” in a given string ignoring the case.\n",
    "\n",
    "Given:\n",
    "\n",
    "str1 = \"Welcome to USA. usa awesome, isn't it?\"\n",
    "Expected Outcome:\n",
    "\n",
    "The USA count is: 2\"\"\"\n",
    "\n",
    "str1 = \"Welcome to USA. usa awesome, isn't it?\"\n",
    "s = str1.lower()\n",
    "b = s.count(\"usa\")\n",
    "print(b)\n"
   ]
  },
  {
   "cell_type": "code",
   "execution_count": null,
   "id": "f509fcd9",
   "metadata": {},
   "outputs": [],
   "source": [
    "str1 = \"Welcome to USA. usa awesome, isn't it?\"\n",
    "s = str1.lower().count(\"usa\")\n",
    "print(s)"
   ]
  },
  {
   "cell_type": "code",
   "execution_count": 77,
   "id": "2b6345b6",
   "metadata": {},
   "outputs": [
    {
     "name": "stdout",
     "output_type": "stream",
     "text": [
      "Reqemler listi [2, 9, 8, 4, 9, 6]\n",
      "Sum is:  38 \n",
      " Average is:  6.333333333333333\n"
     ]
    }
   ],
   "source": [
    "\"\"\"Exercise 9: Calculate the sum and average of the digits present in a string\n",
    "\n",
    "Given a string s1, write a program to return the sum and average of the digits that appear in the string, \n",
    "ignoring all other characters.\n",
    "\n",
    "Given:\n",
    "\n",
    "str1 = \"PYnative29@#8496\"\n",
    "Expected Outcome:\n",
    "\n",
    "Sum is: 38 Average is  6.333333333333333\"\"\"\n",
    "str1 = \"PYnative29@#8496\"\n",
    "num = []\n",
    "for i in str1:\n",
    "    if i.isdigit():\n",
    "        num.append(int(i))\n",
    "        \n",
    "print(\"Reqemler listi\",num)\n",
    "len_num = len(num)\n",
    "\n",
    "print(\"Sum is: \",sum(num),\"\\n\",\"Average is: \",sum(num)/len_num)\n",
    "\n",
    "\n",
    "\n"
   ]
  },
  {
   "cell_type": "code",
   "execution_count": 88,
   "id": "b4d75203",
   "metadata": {},
   "outputs": [
    {
     "name": "stdout",
     "output_type": "stream",
     "text": [
      "Reqemler listi [2, 9, 8, 4, 9, 6]\n",
      "Sum is:  38 \n",
      " Average is: 6.333333333333333\n"
     ]
    }
   ],
   "source": [
    "import statistics\n",
    "str1 = \"PYnative29@#8496\"\n",
    "num = []\n",
    "for i in str1:\n",
    "    if i.isdigit():\n",
    "        num.append(int(i))\n",
    "        \n",
    "print(\"Reqemler listi\",num)\n",
    "average = statistics.mean(num)\n",
    "print(\"Sum is: \",sum(num),'\\n',\"Average is:\",average)"
   ]
  },
  {
   "cell_type": "markdown",
   "id": "60cb1693",
   "metadata": {},
   "source": [
    "\"\"\"\n",
    "Exercise 10: Write a program to count occurrences of all characters within a string\n",
    "\n",
    "Given:\n",
    "\n",
    "str1 = \"Apple\"\n",
    "Expected Outcome:\n",
    "\n",
    "{'A': 1, 'p': 2, 'l': 1, 'e': 1}\n",
    "\n",
    "\"\"\""
   ]
  }
 ],
 "metadata": {
  "kernelspec": {
   "display_name": "Python 3 (ipykernel)",
   "language": "python",
   "name": "python3"
  },
  "language_info": {
   "codemirror_mode": {
    "name": "ipython",
    "version": 3
   },
   "file_extension": ".py",
   "mimetype": "text/x-python",
   "name": "python",
   "nbconvert_exporter": "python",
   "pygments_lexer": "ipython3",
   "version": "3.10.9"
  }
 },
 "nbformat": 4,
 "nbformat_minor": 5
}
