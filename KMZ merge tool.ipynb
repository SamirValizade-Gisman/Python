{
 "cells": [
  {
   "cell_type": "code",
   "execution_count": 1,
   "id": "b2a5e419-0103-4354-810c-6e494ec6ddb3",
   "metadata": {},
   "outputs": [
    {
     "name": "stdout",
     "output_type": "stream",
     "text": [
      "Defaulting to user installation because normal site-packages is not writeable\n",
      "Collecting simplekml\n",
      "  Downloading simplekml-1.3.6.tar.gz (52 kB)\n",
      "  Preparing metadata (setup.py): started\n",
      "  Preparing metadata (setup.py): finished with status 'done'\n",
      "Building wheels for collected packages: simplekml\n",
      "  Building wheel for simplekml (setup.py): started\n",
      "  Building wheel for simplekml (setup.py): finished with status 'done'\n",
      "  Created wheel for simplekml: filename=simplekml-1.3.6-py3-none-any.whl size=65874 sha256=940ceab6cef1974af7ab817df25b6a782fb4cf30e86974f706f145ef1b02a3b5\n",
      "  Stored in directory: c:\\users\\ags_asc\\appdata\\local\\pip\\cache\\wheels\\83\\ee\\f2\\65cecfd948f1429ead035fd6d56bc6bd6574a636ddc4d65cbd\n",
      "Successfully built simplekml\n",
      "Installing collected packages: simplekml\n",
      "Successfully installed simplekml-1.3.6\n",
      "Note: you may need to restart the kernel to use updated packages.\n"
     ]
    }
   ],
   "source": [
    "pip install simplekml\n"
   ]
  },
  {
   "cell_type": "code",
   "execution_count": 2,
   "id": "7c690346-94b4-4670-be5a-8e425df0b7b9",
   "metadata": {},
   "outputs": [
    {
     "name": "stdout",
     "output_type": "stream",
     "text": [
      "KML formatında xəta: could not convert string to float: ''\n",
      "Bütün KML və KMZ faylları birləşdirildi və 'merged.kmz' kimi yadda saxlandı.\n"
     ]
    }
   ],
   "source": [
    "import os\n",
    "import zipfile\n",
    "import simplekml\n",
    "from xml.etree import ElementTree as ET\n",
    "\n",
    "# Giriş və çıxış yollarını təyin edin Point KMZ\n",
    "input_folder = r\"C:\\Users\\AGS_ASC\\Desktop\\KOORDINATLAR\"  # Burada qovluğun tam yolunu qeyd edin\n",
    "output_kmz = r\"C:\\Users\\AGS_ASC\\Desktop\\test4\\merged.kmz\"  # Çıxış faylının adı və yolu\n",
    "\n",
    "# Yeni KML faylı yaradılır\n",
    "merged_kml = simplekml.Kml()\n",
    "\n",
    "def add_kml_content(kml_string, merged_kml):\n",
    "    \"\"\"Mövcud KML məzmununu yeni KML-ə əlavə edir\"\"\"\n",
    "    try:\n",
    "        root = ET.fromstring(kml_string)  # XML strukturunu oxuyur\n",
    "        for placemark in root.findall(\".//{http://www.opengis.net/kml/2.2}Placemark\"):\n",
    "            name = placemark.find(\"{http://www.opengis.net/kml/2.2}name\")\n",
    "            point = placemark.find(\".//{http://www.opengis.net/kml/2.2}coordinates\")\n",
    "\n",
    "            if point is not None:\n",
    "                coords = point.text.strip().split(\",\")\n",
    "                lon, lat = float(coords[0]), float(coords[1])\n",
    "                pm = merged_kml.newpoint(name=name.text if name is not None else \"Unnamed\", coords=[(lon, lat)])\n",
    "                pm.style.iconstyle.icon.href = \"http://maps.google.com/mapfiles/kml/pushpin/red-pushpin.png\"\n",
    "    except Exception as e:\n",
    "        print(f\"KML formatında xəta: {e}\")\n",
    "\n",
    "# Qovluqdakı bütün KML və KMZ fayllarını oxumaq\n",
    "for file in os.listdir(input_folder):\n",
    "    file_path = os.path.join(input_folder, file)\n",
    "\n",
    "    if file.endswith(\".kml\"):\n",
    "        with open(file_path, \"r\", encoding=\"utf-8\") as f:\n",
    "            kml_content = f.read()\n",
    "            add_kml_content(kml_content, merged_kml)\n",
    "\n",
    "    elif file.endswith(\".kmz\"):\n",
    "        with zipfile.ZipFile(file_path, \"r\") as kmz:\n",
    "            for kmz_file in kmz.namelist():\n",
    "                if kmz_file.endswith(\".kml\"):\n",
    "                    with kmz.open(kmz_file) as f:\n",
    "                        kml_content = f.read().decode(\"utf-8\")\n",
    "                        add_kml_content(kml_content, merged_kml)\n",
    "\n",
    "# Yaradılmış KML-ni KMZ formatına çeviririk\n",
    "kml_file = output_kmz.replace(\".kmz\", \".kml\")\n",
    "merged_kml.save(kml_file)\n",
    "\n",
    "# KMZ faylına çevirmək\n",
    "with zipfile.ZipFile(output_kmz, \"w\", zipfile.ZIP_DEFLATED) as kmz:\n",
    "    kmz.write(kml_file, os.path.basename(kml_file))\n",
    "\n",
    "# Ara faylı silirik\n",
    "os.remove(kml_file)\n",
    "\n",
    "print(\"Bütün KML və KMZ faylları birləşdirildi və 'merged.kmz' kimi yadda saxlandı.\")\n"
   ]
  },
  {
   "cell_type": "code",
   "execution_count": 3,
   "id": "ac2a94c6-d462-446d-abc8-6c601aa0127b",
   "metadata": {},
   "outputs": [
    {
     "name": "stdout",
     "output_type": "stream",
     "text": [
      "Bütün KML və KMZ faylları birləşdirildi və 'merged.kmz' kimi yadda saxlandı.\n"
     ]
    }
   ],
   "source": [
    "import os\n",
    "import zipfile\n",
    "import simplekml\n",
    "from xml.etree import ElementTree as ET\n",
    "\n",
    "# Giriş və çıxış yollarını təyin edin Polygon kmz\n",
    "input_folder = r\"C:\\Users\\AGS_ASC\\Desktop\\KOORDINATLAR\"  # Burada qovluğun tam yolunu qeyd edin\n",
    "output_kmz = r\"C:\\Users\\AGS_ASC\\Desktop\\test4\\merged_2.kmz\"  # Çıxış faylının adı və yolu\n",
    "\n",
    "# Yeni KML faylı yaradılır\n",
    "merged_kml = simplekml.Kml()\n",
    "\n",
    "def add_polygon_to_kml(kml_string, merged_kml):\n",
    "    \"\"\"Mövcud KML məzmunundakı poliqonları yeni KML-ə əlavə edir\"\"\"\n",
    "    try:\n",
    "        root = ET.fromstring(kml_string)  # XML formatını oxuyur\n",
    "        for placemark in root.findall(\".//{http://www.opengis.net/kml/2.2}Placemark\"):\n",
    "            name = placemark.find(\"{http://www.opengis.net/kml/2.2}name\")\n",
    "            polygon = placemark.find(\".//{http://www.opengis.net/kml/2.2}coordinates\")\n",
    "\n",
    "            if polygon is not None:\n",
    "                coords_text = polygon.text.strip().split()\n",
    "                coords = [(float(c.split(\",\")[0]), float(c.split(\",\")[1])) for c in coords_text]\n",
    "                \n",
    "                poly = merged_kml.newpolygon(name=name.text if name is not None else \"Unnamed Polygon\",\n",
    "                                             outerboundaryis=coords)\n",
    "                \n",
    "                # Poliqlonun tərzini (style) müəyyən edirik\n",
    "                poly.style.polystyle.color = simplekml.Color.changealpha(\"7F\", simplekml.Color.red)  # Qırmızı şəffaf\n",
    "                poly.style.linestyle.color = simplekml.Color.red  # Kənar xətt qırmızı olsun\n",
    "    except Exception as e:\n",
    "        print(f\"KML formatında xəta: {e}\")\n",
    "\n",
    "# Qovluqdakı bütün KML və KMZ fayllarını oxumaq\n",
    "for file in os.listdir(input_folder):\n",
    "    file_path = os.path.join(input_folder, file)\n",
    "\n",
    "    if file.endswith(\".kml\"):\n",
    "        with open(file_path, \"r\", encoding=\"utf-8\") as f:\n",
    "            kml_content = f.read()\n",
    "            add_polygon_to_kml(kml_content, merged_kml)\n",
    "\n",
    "    elif file.endswith(\".kmz\"):\n",
    "        with zipfile.ZipFile(file_path, \"r\") as kmz:\n",
    "            for kmz_file in kmz.namelist():\n",
    "                if kmz_file.endswith(\".kml\"):\n",
    "                    with kmz.open(kmz_file) as f:\n",
    "                        kml_content = f.read().decode(\"utf-8\")\n",
    "                        add_polygon_to_kml(kml_content, merged_kml)\n",
    "\n",
    "# Yaradılmış KML-ni KMZ formatına çeviririk\n",
    "kml_file = output_kmz.replace(\".kmz\", \".kml\")\n",
    "merged_kml.save(kml_file)\n",
    "\n",
    "# KMZ faylına çevirmək\n",
    "with zipfile.ZipFile(output_kmz, \"w\", zipfile.ZIP_DEFLATED) as kmz:\n",
    "    kmz.write(kml_file, os.path.basename(kml_file))\n",
    "\n",
    "# Ara faylı silirik\n",
    "os.remove(kml_file)\n",
    "\n",
    "print(\"Bütün KML və KMZ faylları birləşdirildi və 'merged.kmz' kimi yadda saxlandı.\")\n"
   ]
  },
  {
   "cell_type": "code",
   "execution_count": null,
   "id": "ef994169-9944-458d-ad28-39c60b3b70e1",
   "metadata": {},
   "outputs": [],
   "source": []
  }
 ],
 "metadata": {
  "kernelspec": {
   "display_name": "Python 3 (ipykernel)",
   "language": "python",
   "name": "python3"
  },
  "language_info": {
   "codemirror_mode": {
    "name": "ipython",
    "version": 3
   },
   "file_extension": ".py",
   "mimetype": "text/x-python",
   "name": "python",
   "nbconvert_exporter": "python",
   "pygments_lexer": "ipython3",
   "version": "3.12.7"
  }
 },
 "nbformat": 4,
 "nbformat_minor": 5
}
